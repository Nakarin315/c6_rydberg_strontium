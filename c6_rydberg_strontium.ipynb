{
 "cells": [
  {
   "cell_type": "code",
   "execution_count": 4,
   "id": "565d595a",
   "metadata": {},
   "outputs": [],
   "source": [
    "# Configure the matplotlib graphics library and configure it to show\n",
    "# figures inline in the notebook\n",
    "\n",
    "%matplotlib inline\n",
    "import matplotlib.pyplot as plt  # Import library for direct plotting functions\n",
    "import numpy as np               # Import Numerical Python\n",
    "from IPython.core.display import display, HTML #Import HTML for formatting output\n",
    "\n",
    "# NOTE: Uncomment following lines ONLY if you are not using installation via pip\n",
    "# import sys, os\n",
    "# rootDir = '/path/to/arc/directory' # e.g. '/Users/Username/Desktop/ARC-Alkali-Rydberg-Calculator'\n",
    "# sys.path.insert(0,rootDir)\n",
    "# import sys, os\n",
    "# sys.path.insert(0,\"..\")\n",
    "\n",
    "import arc\n",
    "from arc import *                 #Import ARC (Alkali Rydberg Calculator)"
   ]
  },
  {
   "cell_type": "code",
   "execution_count": 5,
   "id": "77e01f73",
   "metadata": {},
   "outputs": [
    {
     "name": "stdout",
     "output_type": "stream",
     "text": [
      "6477.845350481177\n"
     ]
    }
   ],
   "source": [
    "# Sr 88 (pair state) 90 ^3P_1 mj=1 , 90 ^3P_1 mj=1 state\n",
    "n=90\n",
    "l=1\n",
    "j=1\n",
    "mj=1\n",
    "calc = PairStateInteractions(Strontium88(), n, l, j, n, l, j, mj, mj,s=1)\n",
    "theta = 0; \n",
    "phi = 0; \n",
    "deltaN = 5; #Range of n to consider (n0-dn:n0+dn)\n",
    "deltaE = 30e9; # #Max pair-state energy difference [Hz]\n",
    "c6 = calc.getC6perturbatively(theta, phi, 5,deltaE)\n",
    "# getC6perturbatively returns the C6 coefficients\n",
    "# expressed in units of GHz mum^6.\n",
    "# Conversion to atomic units:\n",
    "# c6 = c6/1.445e-19\n",
    "print(c6)"
   ]
  }
 ],
 "metadata": {
  "kernelspec": {
   "display_name": "Python 3 (ipykernel)",
   "language": "python",
   "name": "python3"
  },
  "language_info": {
   "codemirror_mode": {
    "name": "ipython",
    "version": 3
   },
   "file_extension": ".py",
   "mimetype": "text/x-python",
   "name": "python",
   "nbconvert_exporter": "python",
   "pygments_lexer": "ipython3",
   "version": "3.7.11"
  }
 },
 "nbformat": 4,
 "nbformat_minor": 5
}
